{
 "cells": [
  {
   "cell_type": "code",
   "execution_count": 21,
   "id": "4a95f3ae",
   "metadata": {},
   "outputs": [
    {
     "name": "stdout",
     "output_type": "stream",
     "text": [
      "Enter the initial node : \n",
      "A\n",
      "Enter the goal node : \n",
      "F\n",
      "Invalid node name entered.\n"
     ]
    }
   ],
   "source": [
    "class Node:\n",
    "    def __init__(self, name, heuristic):\n",
    "        self.name = name\n",
    "        self.heuristic = heuristic\n",
    "        self.adjacent_nodes = []\n",
    "\n",
    "    def add_neighbor(self, neighbor):\n",
    "        self.adjacent_nodes.append(neighbor)\n",
    "\n",
    "    def __str__(self):\n",
    "        return self.name\n",
    "\n",
    "\n",
    "class BestFirstSearch:\n",
    "    def __init__(self):\n",
    "        self.visited = []\n",
    "\n",
    "    def best_first_search(self, start, goal):\n",
    "        visited = []\n",
    "        frontier = [(start.heuristic, start)]\n",
    "        while frontier:\n",
    "            frontier.sort()\n",
    "            node = frontier.pop(0)[1]\n",
    "            visited.append(node)\n",
    "            if node == goal:\n",
    "                return visited\n",
    "            for neighbor in node.adjacent_nodes:\n",
    "                if neighbor not in visited:\n",
    "                    frontier.append((neighbor.heuristic, neighbor))\n",
    "        return visited\n",
    "\n",
    "\n",
    "def main():\n",
    " \n",
    "    a = Node('A', 8)\n",
    "    b = Node('B', 6)\n",
    "    c = Node('C', 4)\n",
    "    d = Node('D', 3)\n",
    "    e = Node('E', 0)\n",
    "     \n",
    "    a.add_neighbor(b)\n",
    "    a.add_neighbor(c)\n",
    "    b.add_neighbor(d)\n",
    "    c.add_neighbor(d)\n",
    "    c.add_neighbor(e)\n",
    "    d.add_neighbor(e)\n",
    "\n",
    "    print(\"Enter the initial node : \")\n",
    "    initial_node = input().upper()\n",
    "    print(\"Enter the goal node : \")\n",
    "    goal_node = input().upper()\n",
    "\n",
    "    nodes_dict = {'A': a, 'B': b, 'C': c, 'D': d, 'E': e}\n",
    "\n",
    "    if initial_node not in nodes_dict or goal_node not in nodes_dict:\n",
    "        print(\"Invalid node name entered.\")\n",
    "        return\n",
    "\n",
    "    initial = nodes_dict[initial_node]\n",
    "    goal = nodes_dict[goal_node]\n",
    "\n",
    "    bfs = BestFirstSearch()\n",
    "    path = bfs.best_first_search(initial, goal)\n",
    "\n",
    "    if goal in path:\n",
    "        print(\"Path found:\")\n",
    "        for node in path:\n",
    "            print(node)\n",
    "    else:\n",
    "        print(\"Goal node could not be reached.\")\n",
    "\n",
    "\n",
    "if __name__ == \"__main__\":\n",
    "    main()\n"
   ]
  },
  {
   "cell_type": "code",
   "execution_count": null,
   "id": "a66826db",
   "metadata": {},
   "outputs": [],
   "source": []
  },
  {
   "cell_type": "code",
   "execution_count": null,
   "id": "edaba3aa",
   "metadata": {},
   "outputs": [],
   "source": []
  }
 ],
 "metadata": {
  "kernelspec": {
   "display_name": "Python 3 (ipykernel)",
   "language": "python",
   "name": "python3"
  },
  "language_info": {
   "codemirror_mode": {
    "name": "ipython",
    "version": 3
   },
   "file_extension": ".py",
   "mimetype": "text/x-python",
   "name": "python",
   "nbconvert_exporter": "python",
   "pygments_lexer": "ipython3",
   "version": "3.9.7"
  }
 },
 "nbformat": 4,
 "nbformat_minor": 5
}
